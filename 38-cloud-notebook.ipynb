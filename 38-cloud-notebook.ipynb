{
 "cells": [
  {
   "cell_type": "code",
   "execution_count": 54,
   "metadata": {},
   "outputs": [],
   "source": [
    "import numpy as np\n",
    "import pandas as pd\n",
    "import matplotlib.pyplot as plt"
   ]
  },
  {
   "cell_type": "code",
   "execution_count": 46,
   "metadata": {},
   "outputs": [
    {
     "name": "stdout",
     "output_type": "stream",
     "text": [
      "Device: NVIDIA GeForce GTX 1060 6GB | Seed: 42\n"
     ]
    }
   ],
   "source": [
    "import torch\n",
    "\n",
    "if not torch.cuda.is_available():\n",
    "    raise Exception('GPU not available.')\n",
    "\n",
    "device = torch.device('cuda') if torch.cuda.is_available() else torch.device('gpu')\n",
    "\n",
    "SEED = 42\n",
    "torch.cuda.manual_seed(SEED)\n",
    "torch.cuda.manual_seed_all(SEED)\n",
    "\n",
    "print(f'Device: {torch.cuda.get_device_name(0)} | Seed: {SEED}' )"
   ]
  },
  {
   "cell_type": "code",
   "execution_count": 37,
   "metadata": {},
   "outputs": [
    {
     "name": "stdout",
     "output_type": "stream",
     "text": [
      "Archive found. Unzipping...\n"
     ]
    }
   ],
   "source": [
    "import os\n",
    "\n",
    "DATA_FOLDER = 'data'\n",
    "\n",
    "archive_path = os.path.join(DATA_FOLDER, 'archive.zip')\n",
    "CLOUD_TEST_PATH = os.path.join(DATA_FOLDER, '38-Cloud_test')\n",
    "CLOUD_TRAIN_PATH = os.path.join(DATA_FOLDER, '38-Cloud_training')\n",
    "\n",
    "# flag to check if archive.zip has already been unzipped\n",
    "is_archive_unzipped = os.path.exists(CLOUD_TEST_PATH) and os.path.exists(CLOUD_TRAIN_PATH)\n",
    "\n",
    "# raise error if archive.zip has not been found and it has not been unzipped yet\n",
    "if not os.path.exists(archive_path) and not is_archive_unzipped:\n",
    "    raise Exception('Error: archive.zip is missing from data folder')\n",
    "\n",
    "print('Archive found. Unzipping...')"
   ]
  },
  {
   "cell_type": "code",
   "execution_count": 35,
   "metadata": {
    "vscode": {
     "languageId": "bat"
    }
   },
   "outputs": [],
   "source": [
    "if (is_archive_unzipped == False):\n",
    "    !unzip data/archive.zip -d data"
   ]
  },
  {
   "cell_type": "code",
   "execution_count": 30,
   "metadata": {
    "vscode": {
     "languageId": "bat"
    }
   },
   "outputs": [],
   "source": [
    "if os.path.exists(archive_path) and is_archive_unzipped:\n",
    "    !rm data/archive.zip"
   ]
  },
  {
   "cell_type": "code",
   "execution_count": 76,
   "metadata": {},
   "outputs": [
    {
     "data": {
      "text/html": [
       "<div>\n",
       "<style scoped>\n",
       "    .dataframe tbody tr th:only-of-type {\n",
       "        vertical-align: middle;\n",
       "    }\n",
       "\n",
       "    .dataframe tbody tr th {\n",
       "        vertical-align: top;\n",
       "    }\n",
       "\n",
       "    .dataframe thead th {\n",
       "        text-align: right;\n",
       "    }\n",
       "</style>\n",
       "<table border=\"1\" class=\"dataframe\">\n",
       "  <thead>\n",
       "    <tr style=\"text-align: right;\">\n",
       "      <th></th>\n",
       "      <th>name</th>\n",
       "    </tr>\n",
       "  </thead>\n",
       "  <tbody>\n",
       "    <tr>\n",
       "      <th>0</th>\n",
       "      <td>patch_1_1_by_1_LC08_L1TP_002053_20160520_20170...</td>\n",
       "    </tr>\n",
       "    <tr>\n",
       "      <th>1</th>\n",
       "      <td>patch_1_1_by_1_LC08_L1TP_002054_20160520_20170...</td>\n",
       "    </tr>\n",
       "    <tr>\n",
       "      <th>2</th>\n",
       "      <td>patch_1_1_by_1_LC08_L1TP_011002_20160620_20170...</td>\n",
       "    </tr>\n",
       "    <tr>\n",
       "      <th>3</th>\n",
       "      <td>patch_1_1_by_1_LC08_L1TP_011247_20160620_20170...</td>\n",
       "    </tr>\n",
       "    <tr>\n",
       "      <th>4</th>\n",
       "      <td>patch_1_1_by_1_LC08_L1TP_029040_20160720_20170...</td>\n",
       "    </tr>\n",
       "  </tbody>\n",
       "</table>\n",
       "</div>"
      ],
      "text/plain": [
       "                                                name\n",
       "0  patch_1_1_by_1_LC08_L1TP_002053_20160520_20170...\n",
       "1  patch_1_1_by_1_LC08_L1TP_002054_20160520_20170...\n",
       "2  patch_1_1_by_1_LC08_L1TP_011002_20160620_20170...\n",
       "3  patch_1_1_by_1_LC08_L1TP_011247_20160620_20170...\n",
       "4  patch_1_1_by_1_LC08_L1TP_029040_20160720_20170..."
      ]
     },
     "execution_count": 76,
     "metadata": {},
     "output_type": "execute_result"
    }
   ],
   "source": [
    "train_patches_name = 'training_patches_38-Cloud.csv'\n",
    "test_patches_name = 'test_patches_38-Cloud.csv'\n",
    "\n",
    "df_patches_train = pd.read_csv(os.path.join(CLOUD_TRAIN_PATH, train_patches_name))\n",
    "df_patches_test = pd.read_csv(os.path.join(CLOUD_TEST_PATH, test_patches_name))\n",
    "df_patches=pd.concat([df_patches_train,df_patches_test]).reset_index(drop=True)\n",
    "df_patches.head()"
   ]
  },
  {
   "cell_type": "code",
   "execution_count": 114,
   "metadata": {},
   "outputs": [],
   "source": [
    "from torch.utils.data import Dataset\n",
    "from pathlib import Path\n",
    "from PIL import Image\n",
    "\n",
    "class Cloud38Dataset(Dataset):\n",
    "    def __init__(self, patches_df, pytorch=True):\n",
    "        super().__init__()\n",
    "\n",
    "        self.patches = [self.map_patches(f) for f in patches_df['name']]\n",
    "        self.pytorch = pytorch\n",
    "\n",
    "    def map_patches(self, file_name):\n",
    "\n",
    "        train_path = Path(CLOUD_TRAIN_PATH)\n",
    "\n",
    "        red_path = train_path / Path('train_red') / Path('red_' + file_name + '.TIF')\n",
    "        green_path = train_path / Path('train_green') / Path('green_' + file_name + '.TIF')\n",
    "        blue_path = train_path / Path('train_blue') / Path('blue_' + file_name + '.TIF')\n",
    "        nir_path = train_path / Path('train_nir') / Path('nir_' + file_name + '.TIF')\n",
    "        gt_path = train_path / Path('train_gt') / Path('gt_' + file_name + '.TIF')        \n",
    "\n",
    "        return {\n",
    "            'red' : red_path,\n",
    "            'green' : green_path,\n",
    "            'blue' : blue_path,\n",
    "            'nir' : nir_path,\n",
    "            'gt' : gt_path\n",
    "        }   \n",
    "    \n",
    "    def __len__(self):\n",
    "        return len(self.patches)\n",
    "\n",
    "    def to_array(self, i, invert=False, include_nir=False):\n",
    "        rgb = np.stack([\n",
    "            np.array(Image.open(self.patches[i]['red'])),\n",
    "            np.array(Image.open(self.patches[i]['green'])),\n",
    "            np.array(Image.open(self.patches[i]['blue'])),\n",
    "        ], axis=2)\n",
    "\n",
    "        if include_nir:\n",
    "            nir = np.expand_dims(np.array(Image.open(self.patches[i]['nir'])), axis=2)\n",
    "            rgb = np.concatenate([rgb, nir], axis=2)\n",
    "\n",
    "        if invert:\n",
    "            rgb = rgb.transpose((2, 0, 1))\n",
    "\n",
    "        return rgb / np.iinfo(rgb.dtype).max\n",
    "    \n",
    "    def to_mask(self, i, add_dims=False):\n",
    "        mask = np.array(Image.open(self.patches[i]['gt']))\n",
    "        mask = np.where(mask == 255, 1, 0)\n",
    "\n",
    "        if add_dims:\n",
    "            return np.expand_dims(mask, 0)\n",
    "        else:\n",
    "            return mask\n",
    "        \n",
    "    def __getitem__(self, i):\n",
    "        x = torch.tensor(self.to_array(i, invert=self.pytorch), dtype=torch.float32)\n",
    "        y = torch.tensor(self.to_mask(i, add_dims=False), dtype=torch.float32)\n",
    "\n",
    "        return x, y\n",
    "        "
   ]
  },
  {
   "cell_type": "code",
   "execution_count": 113,
   "metadata": {},
   "outputs": [
    {
     "name": "stdout",
     "output_type": "stream",
     "text": [
      "Data has been loaded | Length: 8400\n"
     ]
    }
   ],
   "source": [
    "data = Cloud38Dataset(df_patches_train)\n",
    "print(f'Data has been loaded | Length: {len(data)}')"
   ]
  },
  {
   "cell_type": "code",
   "execution_count": 174,
   "metadata": {},
   "outputs": [
    {
     "data": {
      "text/plain": [
       "<matplotlib.image.AxesImage at 0x7fb8e0460100>"
      ]
     },
     "execution_count": 174,
     "metadata": {},
     "output_type": "execute_result"
    },
    {
     "data": {
      "image/png": "[encoded data removed]",
      "text/plain": [
       "<Figure size 1000x900 with 2 Axes>"
      ]
     },
     "metadata": {},
     "output_type": "display_data"
    }
   ],
   "source": [
    "image_index = np.random.randint(0, len(data))\n",
    "fig, ax = plt.subplots(1, 2, figsize=(10, 9))\n",
    "ax[0].imshow(data.to_array(image_index, include_nir=False))\n",
    "ax[1].imshow(data.to_mask(image_index))"
   ]
  }
 ],
 "metadata": {
  "kernelspec": {
   "display_name": "Python 3",
   "language": "python",
   "name": "python3"
  },
  "language_info": {
   "codemirror_mode": {
    "name": "ipython",
    "version": 3
   },
   "file_extension": ".py",
   "mimetype": "text/x-python",
   "name": "python",
   "nbconvert_exporter": "python",
   "pygments_lexer": "ipython3",
   "version": "3.8.10"
  },
  "orig_nbformat": 4
 },
 "nbformat": 4,
 "nbformat_minor": 2
}
