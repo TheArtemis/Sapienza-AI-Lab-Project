{
 "cells": [
  {
   "cell_type": "code",
   "execution_count": 1,
   "metadata": {},
   "outputs": [],
   "source": [
    "import numpy as np\n",
    "import pandas as pd"
   ]
  },
  {
   "cell_type": "code",
   "execution_count": 11,
   "metadata": {},
   "outputs": [
    {
     "name": "stdout",
     "output_type": "stream",
     "text": [
      "Device: NVIDIA GeForce GTX 1060 6GB | Seed: 42\n"
     ]
    }
   ],
   "source": [
    "import torch\n",
    "\n",
    "if not torch.cuda.is_available():\n",
    "    raise Exception('GPU not available.')\n",
    "\n",
    "device = torch.device('cuda') if torch.cuda.is_available() else torch.device('gpu')\n",
    "\n",
    "SEED = 42\n",
    "torch.cuda.manual_seed(SEED)\n",
    "torch.cuda.manual_seed_all(SEED)\n",
    "\n",
    "print(f'Device: {torch.cuda.get_device_name(0)} | Seed: {SEED}' )"
   ]
  },
  {
   "cell_type": "code",
   "execution_count": 31,
   "metadata": {},
   "outputs": [],
   "source": [
    "import os\n",
    "\n",
    "archive_path = os.path.join('data', 'archive.zip')\n",
    "cloud_test_path = os.path.join('data', '38-Cloud_test')\n",
    "\n",
    "# flag to check if archive.zip has already been unzipped\n",
    "is_archive_unzipped = os.path.exists(cloud_test_path)\n",
    "\n",
    "# raise error if archive.zip has not been found and it has not been unzipped yet\n",
    "if not os.path.exists(archive_path) and not is_archive_unzipped:\n",
    "    raise Exception('Error: archive.zip is missing from data folder')"
   ]
  },
  {
   "cell_type": "code",
   "execution_count": 27,
   "metadata": {
    "vscode": {
     "languageId": "bat"
    }
   },
   "outputs": [],
   "source": [
    "if (is_archive_unzipped == False):\n",
    "    !unzip data/archive.zip -d data"
   ]
  },
  {
   "cell_type": "code",
   "execution_count": 30,
   "metadata": {
    "vscode": {
     "languageId": "bat"
    }
   },
   "outputs": [],
   "source": [
    "if os.path.exists(archive_path) and is_archive_unzipped:\n",
    "    !rm data/archive.zip"
   ]
  },
  {
   "cell_type": "code",
   "execution_count": 10,
   "metadata": {},
   "outputs": [],
   "source": [
    "class Cloud38Dataset():\n",
    "    def __init__(self):\n",
    "        return"
   ]
  }
 ],
 "metadata": {
  "kernelspec": {
   "display_name": "Python 3",
   "language": "python",
   "name": "python3"
  },
  "language_info": {
   "codemirror_mode": {
    "name": "ipython",
    "version": 3
   },
   "file_extension": ".py",
   "mimetype": "text/x-python",
   "name": "python",
   "nbconvert_exporter": "python",
   "pygments_lexer": "ipython3",
   "version": "3.8.10"
  },
  "orig_nbformat": 4
 },
 "nbformat": 4,
 "nbformat_minor": 2
}
